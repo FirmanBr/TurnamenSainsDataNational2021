{
 "cells": [
  {
   "cell_type": "code",
   "execution_count": 1,
   "id": "06b2fd34",
   "metadata": {},
   "outputs": [],
   "source": [
    "#import package\n",
    "\n",
    "import pandas as pd"
   ]
  },
  {
   "cell_type": "code",
   "execution_count": 2,
   "id": "d94c7738",
   "metadata": {},
   "outputs": [],
   "source": [
    "#Jabar Internal\n",
    "jabar = pd.read_csv('Jabar_internal/diskuk-od_17366_jml_ush_mikro_kecil_menengah_umkm_binaan__bentuk_ush_data.csv')\n",
    "jabar1 = pd.read_csv('Jabar_internal/diskuk-od_17367_jml_ush_mikro_kecil_menengah_umkm_binaan__jenis_ush_data.csv')\n",
    "jabar2 = pd.read_csv('Jabar_internal/diskuk-od_17368_proporsi_kredit_ush_mikro_kecil_menengah_umkm_terhadap_data.csv')\n",
    "jabar3 = pd.read_csv('Jabar_internal/diskuk-od_17370_jml_ush_mikro_kecil_menengah_umkm__kategori_ush_data.csv')\n",
    "jabar4 = pd.read_csv('Jabar_internal/diskuk-od_17371_jml_ush_mikro_kecil_menengah_umkm__kabupatenkota_kateg_data.csv')\n",
    "jabar5 = pd.read_csv('Jabar_internal/diskuk-od_17372_jml_ush_mikro_kecil_menengah_umkm__kabupatenkota_data.csv')"
   ]
  },
  {
   "cell_type": "code",
   "execution_count": 8,
   "id": "45456033",
   "metadata": {},
   "outputs": [
    {
     "name": "stdout",
     "output_type": "stream",
     "text": [
      "      id  kode_provinsi nama_provinsi  kode_kabupaten_kota  \\\n",
      "0      1             32    JAWA BARAT                 3201   \n",
      "1      2             32    JAWA BARAT                 3202   \n",
      "2      3             32    JAWA BARAT                 3203   \n",
      "3      4             32    JAWA BARAT                 3204   \n",
      "4      5             32    JAWA BARAT                 3205   \n",
      "..   ...            ...           ...                  ...   \n",
      "157  158             32    JAWA BARAT                 3275   \n",
      "158  159             32    JAWA BARAT                 3276   \n",
      "159  160             32    JAWA BARAT                 3277   \n",
      "160  161             32    JAWA BARAT                 3278   \n",
      "161  162             32    JAWA BARAT                 3279   \n",
      "\n",
      "    nama_kabupaten_kota  jumlah_umkm satuan  tahun  \n",
      "0       KABUPATEN BOGOR       375048   UNIT   2016  \n",
      "1    KABUPATEN SUKABUMI       269002   UNIT   2016  \n",
      "2     KABUPATEN CIANJUR       250808   UNIT   2016  \n",
      "3     KABUPATEN BANDUNG       353277   UNIT   2016  \n",
      "4       KABUPATEN GARUT       259141   UNIT   2016  \n",
      "..                  ...          ...    ...    ...  \n",
      "157         KOTA BEKASI       274143   UNIT   2021  \n",
      "158          KOTA DEPOK       219238   UNIT   2021  \n",
      "159         KOTA CIMAHI        76833   UNIT   2021  \n",
      "160    KOTA TASIKMALAYA       123010   UNIT   2021  \n",
      "161         KOTA BANJAR        34962   UNIT   2021  \n",
      "\n",
      "[162 rows x 8 columns]\n"
     ]
    }
   ],
   "source": [
    "print(jabar5)"
   ]
  },
  {
   "cell_type": "code",
   "execution_count": null,
   "id": "027628c5",
   "metadata": {},
   "outputs": [],
   "source": []
  }
 ],
 "metadata": {
  "kernelspec": {
   "display_name": "Python 3",
   "language": "python",
   "name": "python3"
  },
  "language_info": {
   "codemirror_mode": {
    "name": "ipython",
    "version": 3
   },
   "file_extension": ".py",
   "mimetype": "text/x-python",
   "name": "python",
   "nbconvert_exporter": "python",
   "pygments_lexer": "ipython3",
   "version": "3.8.8"
  }
 },
 "nbformat": 4,
 "nbformat_minor": 5
}
